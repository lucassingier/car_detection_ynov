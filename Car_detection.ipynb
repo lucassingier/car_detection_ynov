{
 "cells": [
  {
   "cell_type": "code",
   "execution_count": null,
   "id": "6fc84b16",
   "metadata": {},
   "outputs": [],
   "source": [
    "import os, time, random\n",
    "import numpy as np\n",
    "import pandas as pd\n",
    "import cv2, torch\n",
    "from tqdm.auto import tqdm\n",
    "import shutil as sh\n",
    "import re\n",
    "\n",
    "from IPython.display import Image, clear_output\n",
    "import matplotlib.pyplot as plt\n",
    "%matplotlib inline"
   ]
  },
  {
   "cell_type": "code",
   "execution_count": null,
   "id": "d06dc3d5",
   "metadata": {},
   "outputs": [],
   "source": [
    "#%%time\n",
    "#!git clone https://github.com/ultralytics/yolov5  # clone repo\n",
    "#!pip install -U pycocotools\n",
    "#!pip install -qr yolov5/requirements.txt  # install dependencies\n",
    "#!cp yolov5/requirements.txt ./"
   ]
  },
  {
   "cell_type": "code",
   "execution_count": null,
   "id": "1538610d",
   "metadata": {},
   "outputs": [],
   "source": [
    "img_h, img_w, num_channels = (380, 676, 3)\n",
    "df = pd.read_csv('./data/train_solution_bounding_boxes (1).csv')\n",
    "df.rename(columns={'image':'image_id'}, inplace=True)\n",
    "df['image_id'] = df['image_id'].apply(lambda x: x.split('.')[0])\n",
    "print(df[df['image_id']==\"vid_4_1000\"])"
   ]
  },
  {
   "cell_type": "markdown",
   "id": "0543d7b2",
   "metadata": {},
   "source": [
    "# Annotation\n",
    "\n",
    "### [ bbox_left , bbox_top , bbox_width , bbox_height , score , object_category , truncation , occlusion]"
   ]
  },
  {
   "cell_type": "markdown",
   "id": "a6ddb77c",
   "metadata": {},
   "source": [
    " - ### bbox_left\t     \n",
    " \n",
    "La coordonnée x du coin supérieur gauche de la boîte de délimitation prédite.\n",
    " "
   ]
  },
  {
   "cell_type": "markdown",
   "id": "fed1de75",
   "metadata": {},
   "source": [
    "- ### bbox_top\n",
    "\n",
    "La coordonnée y du coin supérieur gauche de la boîte englobante de l'objet prédit."
   ]
  },
  {
   "cell_type": "markdown",
   "id": "1fda9442",
   "metadata": {},
   "source": [
    "- ### bbox_width\n",
    "\n",
    "La largeur en pixels de la boîte de délimitation de l'objet prédit."
   ]
  },
  {
   "cell_type": "markdown",
   "id": "b5e171a2",
   "metadata": {},
   "source": [
    "- ### bbox_height\n",
    "\n",
    "La hauteur en pixels de la boîte de délimitation de l'objet prédit."
   ]
  },
  {
   "cell_type": "markdown",
   "id": "8312a04c",
   "metadata": {},
   "source": [
    "- ### score\n",
    "\n",
    "Le score du fichier DETECTION indique le degré de confiance de la boîte englobante prédite entourant une instance d'objet.\n",
    "- 1 indique que le rectangle de délimitation est pris en compte dans l'évaluation, \n",
    "- 0 indique que le rectangle englobant sera ignoré.\n",
    "\n"
   ]
  },
  {
   "cell_type": "markdown",
   "id": "f21bec57",
   "metadata": {},
   "source": [
    "- ### object_category\n",
    "\n",
    "La catégorie d'objet indique le type d'objet annoté:\n",
    "- 0 ignorées\n",
    "- 1 piéton\n",
    "- 2 personnes\n",
    "- 3 bicyclette\n",
    "- 4 voiture\n",
    "- 5 fourgon\n",
    "- 6 camion\n",
    "- 7 tricycle\n",
    "- 8 tricycle-auvent\n",
    "- 9 bus\n",
    "- 10 moteur\n",
    "- 11 autres"
   ]
  },
  {
   "cell_type": "markdown",
   "id": "06881f59",
   "metadata": {},
   "source": [
    "- ### truncation\n",
    "\n",
    "Le score dans le fichier de résultat DETECTION doit être défini sur la constante -1.\n",
    "Le score indique le degré de parties d'objets apparaissant en dehors d'une image \n",
    "\n",
    "- 0 pas de troncature (ratio de troncature 0%)\n",
    "- 1 troncature partielle (ratio de troncature 1% ~ 50%)"
   ]
  },
  {
   "cell_type": "markdown",
   "id": "3b29ab80",
   "metadata": {},
   "source": [
    "- ### occlusion\n",
    "\n",
    "Le score dans le fichier GROUNDTRUTH indique la fraction d'objets occultés \n",
    "\n",
    "- 0 aucune occlusion (rapport d'occlusion de 0 %)\n",
    "- 1 occlusion partielle (rapport d'occlusion de 1 % ~ 50 %)\n",
    "- 2 forte occlusion (taux d'occlusion 50 % ~ 100 %)"
   ]
  },
  {
   "cell_type": "code",
   "execution_count": null,
   "id": "22cd2af6",
   "metadata": {
    "scrolled": true
   },
   "outputs": [],
   "source": [
    "f = open('../data/aiskyeye_dataset/VisDrone2019-DET-train/annotations/0000008_02499_d_0000041.txt', 'r')\n",
    "f.readlines()\n"
   ]
  },
  {
   "cell_type": "code",
   "execution_count": null,
   "id": "ebade6a5",
   "metadata": {},
   "outputs": [],
   "source": [
    "chemin_df = \"../data/aiskyeye_dataset/VisDrone2019-DET-train/annotations/\"\n",
    "#train_images = os.path.join(train_base_dir, 'images')\n",
    "train_annotations = os.path.join('../data/aiskyeye_dataset/VisDrone2019-DET-train', 'annotations')\n",
    "train_annotations_list = sorted(os.listdir(train_annotations))\n",
    "\n",
    "df_result = pd.DataFrame(columns=('image_id','bbox_left' , 'bbox_top' , 'bbox_width' , 'bbox_height' , 'score' , 'object_category' , 'truncation' , 'occlusion'))\n",
    "for i in train_annotations_list:\n",
    "    fichier = i\n",
    "    df = open(chemin_df+fichier, \"r\")\n",
    "    lines = df.readlines()\n",
    "    df.close()\n",
    "    file = fichier.split('.')[0]\n",
    "    for index, line in enumerate(lines):\n",
    "        lines[index] = line.strip()\n",
    "    i = 0\n",
    "    for line in lines:\n",
    "        splits = line.split(',')\n",
    "        df_result = df_result.append({'image_id': file,\n",
    "                                      'bbox_left': splits[0],\n",
    "                                      'bbox_top': splits[1],\n",
    "                                      'bbox_width': splits[2],\n",
    "                                      'bbox_height': splits[3],\n",
    "                                      'score': splits[4],\n",
    "                                      'object_category': splits[5],\n",
    "                                      'truncation': splits[6],\n",
    "                                      'occlusion': splits[7]}, ignore_index=True)\n",
    "print(df_result)"
   ]
  },
  {
   "cell_type": "code",
   "execution_count": null,
   "id": "5d06d040",
   "metadata": {},
   "outputs": [],
   "source": [
    "print(df_result)"
   ]
  },
  {
   "cell_type": "code",
   "execution_count": null,
   "id": "d03862ac",
   "metadata": {},
   "outputs": [],
   "source": [
    "# 0 ignorées\n",
    "# 1 piéton\n",
    "# 2 personnes\n",
    "# 3 bicyclette\n",
    "# 4 voiture\n",
    "# 5 fourgon\n",
    "# 6 camion\n",
    "# 7 tricycle\n",
    "# 8 tricycle-auvent\n",
    "# 9 bus\n",
    "# 10 moteur\n",
    "# 11 autres\n",
    "def colors(x):\n",
    "    return {\n",
    "        0: (240, 195, 0),\n",
    "        1: (0,255,0),\n",
    "        2: (132, 46, 27),\n",
    "        3: (131, 166, 151),\n",
    "        4: (0,0,255),\n",
    "        5: (223, 115, 255),\n",
    "        6: (255,0,0),\n",
    "        7: (255, 0, 127),\n",
    "        8: (112, 41, 99),\n",
    "        9: (255, 0, 127),\n",
    "        10:(210, 202, 236),\n",
    "        11:(0, 86, 27)\n",
    "    }[x]"
   ]
  },
  {
   "cell_type": "code",
   "execution_count": null,
   "id": "e2b96535",
   "metadata": {},
   "outputs": [],
   "source": [
    "def draw_boxes(img, box):\n",
    "    \n",
    "    box = [int(x) for x in box.split(',')]\n",
    "    top_left_x = int(box[0])\n",
    "    top_left_y = int(box[1])\n",
    "    \n",
    "    width = int(box[2])\n",
    "    height = int(box[3])\n",
    "    bottom_right_x = top_left_x + width\n",
    "    bottom_right_y = top_left_y + height\n",
    "    \n",
    "    color = colors(int(box[5]))\n",
    "    \n",
    "    \n",
    "    \n",
    "    \n",
    "    cv2.rectangle(img, (top_left_x, top_left_y), (bottom_right_x, bottom_right_y),color, 3)"
   ]
  }
 ],
 "metadata": {
  "kernelspec": {
   "display_name": "Python 3 (ipykernel)",
   "language": "python",
   "name": "python3"
  },
  "language_info": {
   "codemirror_mode": {
    "name": "ipython",
    "version": 3
   },
   "file_extension": ".py",
   "mimetype": "text/x-python",
   "name": "python",
   "nbconvert_exporter": "python",
   "pygments_lexer": "ipython3",
   "version": "3.8.0"
  }
 },
 "nbformat": 4,
 "nbformat_minor": 5
}
